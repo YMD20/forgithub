{
 "cells": [
  {
   "cell_type": "code",
   "execution_count": 2,
   "metadata": {},
   "outputs": [
    {
     "name": "stdout",
     "output_type": "stream",
     "text": [
      "hello_Esto fue modificado\n",
      "123\n",
      "Hi_modifing again!!!\n"
     ]
    }
   ],
   "source": [
    "# Use of print\n",
    "msg =\"hello_Esto fue modificado\"\n",
    "msg1 =\"Hi_modifing again!!!\"\n",
    "code =123\n",
    "print(msg)\n",
    "print(code)\n",
    "print(msg1)"
   ]
  }
 ],
 "metadata": {
  "kernelspec": {
   "display_name": "Python 3",
   "language": "python",
   "name": "python3"
  },
  "language_info": {
   "codemirror_mode": {
    "name": "ipython",
    "version": 3
   },
   "file_extension": ".py",
   "mimetype": "text/x-python",
   "name": "python",
   "nbconvert_exporter": "python",
   "pygments_lexer": "ipython3",
   "version": "3.8.3"
  }
 },
 "nbformat": 4,
 "nbformat_minor": 4
}
